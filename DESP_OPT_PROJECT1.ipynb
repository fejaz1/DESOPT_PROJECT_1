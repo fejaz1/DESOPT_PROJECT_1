{
 "cells": [
  {
   "cell_type": "code",
   "execution_count": null,
   "metadata": {},
   "outputs": [],
   "source": [
    "import os    \n",
    "os.environ['KMP_DUPLICATE_LIB_OK'] = 'True'\n",
    "import numpy\n",
    "import math\n",
    "import torch as t\n",
    "from torch import optim\n",
    "from torch.nn import utils\n",
    "import scipy.io\n",
    "\n",
    "logger = logging.getLogger(__name__)"
   ]
  },
  {
   "cell_type": "code",
   "execution_count": null,
   "metadata": {},
   "outputs": [],
   "source": [
    "P_w= 0.25  \n",
    "P_h = 0.06  \n",
    "f_t = 0.1  \n",
    "g = 0.12  \n",
    "b_a = 0.18  \n",
    "r_a = 20  \n",
    "d_a = 0.005  "
   ]
  },
  {
   "cell_type": "code",
   "execution_count": null,
   "metadata": {},
   "outputs": [],
   "source": [
    "class Dynamics(nn.Module):\n",
    "\n",
    "    def __init__(self):\n",
    "        super(Dynamics, self).__init__()\n",
    "\n",
    "    def forward(self, state, action):\n",
    "        \"\"\"\n",
    "        action[0] = thrust controller\n",
    "        action[1] = omega controller\n",
    "\n",
    "        state[0] = x\n",
    "        state[1] = x_dot\n",
    "        state[2] = y\n",
    "        state[3] = y_dot\n",
    "        state[4] = theta\n",
    "        \"\"\"\n"
   ]
  }
 ],
 "metadata": {
  "kernelspec": {
   "display_name": "Python 3",
   "language": "python",
   "name": "python3"
  },
  "language_info": {
   "codemirror_mode": {
    "name": "ipython",
    "version": 3
   },
   "file_extension": ".py",
   "mimetype": "text/x-python",
   "name": "python",
   "nbconvert_exporter": "python",
   "pygments_lexer": "ipython3",
   "version": "3.7.6"
  }
 },
 "nbformat": 4,
 "nbformat_minor": 4
}
